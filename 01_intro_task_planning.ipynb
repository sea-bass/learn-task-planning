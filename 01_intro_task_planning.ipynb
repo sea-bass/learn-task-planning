{
 "cells": [
  {
   "cell_type": "markdown",
   "metadata": {},
   "source": [
    "# Introduction to Task Planning\n",
    "\n",
    "In this example, we will describe a simple robot pick and place domain.\n",
    "Suppose we have a robot that is picking up parts and putting them into bins.\n",
    "\n",
    "Before you start, make sure you have installed the Unified Planning library:\n",
    "\n",
    "```\n",
    "pip install unified_planning[tamer]\n",
    "```\n",
    "\n",
    "Here, the `[tamer]` addon means that, in addition to installing the core Unified Planning library, we're also installing the Tamer planner so we can actually do planning."
   ]
  },
  {
   "cell_type": "code",
   "execution_count": 28,
   "metadata": {},
   "outputs": [],
   "source": [
    "from unified_planning.shortcuts import *"
   ]
  },
  {
   "cell_type": "markdown",
   "metadata": {},
   "source": [
    "We will first create a set of **types** for our domain.\n",
    "In this case, we care about two types of objects: parts and bins. "
   ]
  },
  {
   "cell_type": "code",
   "execution_count": 2,
   "metadata": {},
   "outputs": [],
   "source": [
    "Part = UserType(\"part\")\n",
    "Bin = UserType(\"bin\")"
   ]
  },
  {
   "cell_type": "markdown",
   "metadata": {},
   "source": [
    "Roughly, the rules are as follows:\n",
    "* The robot needs to move to a bin before picking/placing a part.\n",
    "* The robot can only be holding one part at a time.\n",
    "* Each bin can only hold one part.\n",
    "\n",
    "To capture these requirements, we can create a set of **fluents** that describe the world at this level of abstraction."
   ]
  },
  {
   "cell_type": "code",
   "execution_count": 3,
   "metadata": {},
   "outputs": [],
   "source": [
    "robot_at = Fluent(\"robot_at\", BoolType(), b=Bin)\n",
    "part_at = Fluent(\"part_at\", BoolType(), p=Part, b=Bin)\n",
    "holding = Fluent(\"holding\", BoolType(), p=Part)\n",
    "gripper_empty = Fluent(\"gripper_empty\", BoolType())"
   ]
  },
  {
   "cell_type": "markdown",
   "metadata": {},
   "source": [
    "These fluents are used to define the possible **actions** in our domain.\n",
    "\n",
    "In this case, we will have 3 actions: *move*, *pick*, and *place*.\n",
    "\n",
    "Each action contains a set of **preconditions** (requirements to run the action) and **effects** (what happens to the fluents when the action is performed)."
   ]
  },
  {
   "cell_type": "code",
   "execution_count": 4,
   "metadata": {},
   "outputs": [],
   "source": [
    "move = InstantaneousAction(\"move\", b_from=Bin, b_to=Bin)\n",
    "b_from = move.parameter(\"b_from\")\n",
    "b_to = move.parameter(\"b_to\")\n",
    "move.add_precondition(robot_at(b_from))\n",
    "move.add_effect(robot_at(b_from), False)\n",
    "move.add_effect(robot_at(b_to), True)\n",
    "#print(move)\n",
    "\n",
    "pick = InstantaneousAction(\"pick\", p=Part, b=Bin)\n",
    "p = pick.parameter(\"p\")\n",
    "b = pick.parameter(\"b\")\n",
    "pick.add_precondition(robot_at(b))\n",
    "pick.add_precondition(part_at(p, b))\n",
    "pick.add_precondition(gripper_empty)\n",
    "pick.add_effect(part_at(p, b), False)\n",
    "pick.add_effect(holding(p), True)\n",
    "pick.add_effect(gripper_empty, False)\n",
    "#print(pick)\n",
    "\n",
    "place = InstantaneousAction(\"place\", p=Part, b=Bin)\n",
    "p = place.parameter(\"p\")\n",
    "b = place.parameter(\"b\")\n",
    "place.add_precondition(robot_at(b))\n",
    "place.add_precondition(holding(p))\n",
    "place.add_precondition(Not(gripper_empty))\n",
    "place.add_effect(part_at(p, b), True)\n",
    "place.add_effect(holding(p), False)\n",
    "place.add_effect(gripper_empty, True)\n",
    "#print(place)"
   ]
  },
  {
   "cell_type": "markdown",
   "metadata": {},
   "source": [
    "Now that we have types, fluents, and actions, our entire **planning domain** is specified.\n",
    "\n",
    "However, we can't do anything with this abstract description until we define a set of **objects** -- that is, real instances of our specified types that can be used for planning.\n",
    "\n",
    "Let's define a few parts and bins for our problem."
   ]
  },
  {
   "cell_type": "code",
   "execution_count": 5,
   "metadata": {},
   "outputs": [],
   "source": [
    "part_1 = Object(\"part_1\", Part)\n",
    "part_2 = Object(\"part_2\", Part)\n",
    "bin_1 = Object(\"bin_1\", Bin)\n",
    "bin_2 = Object(\"bin_2\", Bin)\n",
    "bin_3 = Object(\"bin_3\", Bin)"
   ]
  },
  {
   "cell_type": "markdown",
   "metadata": {},
   "source": [
    "Let's now assemble a full **problem**, which comprises\n",
    "\n",
    "* The domain (types, fluents, and actions)\n",
    "* The objects\n",
    "* The initial conditions\n",
    "* The desired goal state"
   ]
  },
  {
   "cell_type": "code",
   "execution_count": 25,
   "metadata": {},
   "outputs": [],
   "source": [
    "problem = Problem(\"pick_and_place\")\n",
    "problem.add_fluent(robot_at, default_initial_value=False)\n",
    "problem.add_fluent(part_at, default_initial_value=False)\n",
    "problem.add_fluent(holding, default_initial_value=False)\n",
    "problem.add_fluent(gripper_empty, default_initial_value=False)\n",
    "problem.add_actions([move, pick, place])\n",
    "problem.add_objects([part_1, part_2, bin_1, bin_2, bin_3])\n",
    "\n",
    "# Initial conditions\n",
    "problem.set_initial_value(gripper_empty, True)\n",
    "problem.set_initial_value(robot_at(bin_1), False)\n",
    "problem.set_initial_value(robot_at(bin_3), True)\n",
    "problem.set_initial_value(part_at(part_1, bin_1), True)\n",
    "problem.set_initial_value(part_at(part_2, bin_2), True)\n",
    "\n",
    "# Desired goal state\n",
    "problem.add_goal(robot_at(bin_2))\n",
    "problem.add_goal(part_at(part_1, bin_3))\n",
    "problem.add_goal(part_at(part_2, bin_1))\n",
    "\n",
    "#print(problem)"
   ]
  },
  {
   "cell_type": "markdown",
   "metadata": {},
   "source": [
    "Now that we have this problem set up, we can **plan** to solve it!"
   ]
  },
  {
   "cell_type": "code",
   "execution_count": 27,
   "metadata": {},
   "outputs": [
    {
     "name": "stdout",
     "output_type": "stream",
     "text": [
      "\u001b[96m  *** Credits ***\n",
      "\u001b[0m\u001b[96m  * In operation mode `OneshotPlanner` at line 1 of `/tmp/ipykernel_2327289/1018834468.py`, \u001b[0m\u001b[96myou are using the following planning engine:\n",
      "\u001b[0m\u001b[96m  * Engine name: Tamer\n",
      "  * Developers:  FBK Tamer Development Team\n",
      "\u001b[0m\u001b[96m  * Description: \u001b[0m\u001b[96mTamer offers the capability to generate a plan for classical, numerical and temporal problems.\n",
      "  *              For those kind of problems tamer also offers the possibility of validating a submitted plan.\u001b[0m\u001b[96m\n",
      "\u001b[0m\u001b[96m\n",
      "\u001b[0mSequentialPlan:\n",
      "    move(bin_3, bin_2)\n",
      "    pick(part_2, bin_2)\n",
      "    move(bin_2, bin_1)\n",
      "    place(part_2, bin_1)\n",
      "    pick(part_1, bin_1)\n",
      "    move(bin_1, bin_3)\n",
      "    place(part_1, bin_3)\n",
      "    move(bin_3, bin_2)\n"
     ]
    }
   ],
   "source": [
    "with OneshotPlanner(name=\"tamer\") as planner:\n",
    "    result = planner.solve(problem)\n",
    "    if result.plan is None:\n",
    "        print(\"Found no plan :(\")\n",
    "    else:\n",
    "        print(result.plan)"
   ]
  },
  {
   "cell_type": "markdown",
   "metadata": {},
   "source": [
    "... and there we go -- our first task planning example!\n",
    "\n",
    "Feel free to change the number of objects, initial conditions, and/or goals to see how the planner performs.\n",
    "\n",
    "This is why it can be useful to go through the trouble of setting up automated planning problems like this one; because once you define the structure of the problem, you can find plans for any arbitrary combination of objects that fit within this domain specification."
   ]
  }
 ],
 "metadata": {
  "kernelspec": {
   "display_name": "Python 3",
   "language": "python",
   "name": "python3"
  },
  "language_info": {
   "codemirror_mode": {
    "name": "ipython",
    "version": 3
   },
   "file_extension": ".py",
   "mimetype": "text/x-python",
   "name": "python",
   "nbconvert_exporter": "python",
   "pygments_lexer": "ipython3",
   "version": "3.12.3"
  }
 },
 "nbformat": 4,
 "nbformat_minor": 2
}
