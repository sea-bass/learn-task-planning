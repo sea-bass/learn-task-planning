{
 "cells": [
  {
   "cell_type": "markdown",
   "metadata": {},
   "source": [
    "# Introduction to PDDL\n",
    "\n",
    "In the first example, we looked at manually defining a planning problem.\n",
    "\n",
    "However, there exist entire modeling languages to more easily define these.\n",
    "The most common one is Planning Domain Description Language, or PDDL.\n",
    "\n",
    "Unified Planning offers a PDDL reader that you can use to directly read these files."
   ]
  },
  {
   "cell_type": "code",
   "execution_count": 41,
   "metadata": {},
   "outputs": [
    {
     "name": "stdout",
     "output_type": "stream",
     "text": [
      "problem name = pick_and_place_problem_01\n",
      "\n",
      "types = [bin, part]\n",
      "\n",
      "fluents = [\n",
      "  bool robot_at[b=bin]\n",
      "  bool part_at[p=part, b=bin]\n",
      "  bool holding[p=part]\n",
      "  bool gripper_empty\n",
      "  bool occupied[b=bin]\n",
      "]\n",
      "\n",
      "actions = [\n",
      "  action move(bin b_from, bin b_to) {\n",
      "    preconditions = [\n",
      "      robot_at(b_from)\n",
      "    ]\n",
      "    effects = [\n",
      "      robot_at(b_from) := false\n",
      "      robot_at(b_to) := true\n",
      "    ]\n",
      "  }\n",
      "  action pick(part p, bin b) {\n",
      "    preconditions = [\n",
      "      (robot_at(b) and part_at(p, b) and gripper_empty)\n",
      "    ]\n",
      "    effects = [\n",
      "      part_at(p, b) := false\n",
      "      holding(p) := true\n",
      "      gripper_empty := false\n",
      "      occupied(b) := false\n",
      "    ]\n",
      "  }\n",
      "  action place(part p, bin b) {\n",
      "    preconditions = [\n",
      "      (robot_at(b) and holding(p) and (not occupied(b)))\n",
      "    ]\n",
      "    effects = [\n",
      "      holding(p) := false\n",
      "      gripper_empty := true\n",
      "      part_at(p, b) := true\n",
      "      occupied(b) := true\n",
      "    ]\n",
      "  }\n",
      "]\n",
      "\n",
      "objects = [\n",
      "  bin: [bin_1, bin_2, bin_3]\n",
      "  part: [part_1, part_2]\n",
      "]\n",
      "\n",
      "initial fluents default = [\n",
      "  bool robot_at[b=bin] := false\n",
      "  bool part_at[p=part, b=bin] := false\n",
      "  bool holding[p=part] := false\n",
      "  bool gripper_empty := false\n",
      "  bool occupied[b=bin] := false\n",
      "]\n",
      "\n",
      "initial values = [\n",
      "  robot_at(bin_3) := true\n",
      "  gripper_empty := true\n",
      "  part_at(part_1, bin_1) := true\n",
      "  part_at(part_2, bin_2) := true\n",
      "  occupied(bin_1) := true\n",
      "  occupied(bin_2) := true\n",
      "]\n",
      "\n",
      "goals = [\n",
      "  (robot_at(bin_2) and part_at(part_1, bin_3) and part_at(part_2, bin_1))\n",
      "]\n",
      "\n",
      "\n"
     ]
    }
   ],
   "source": [
    "from unified_planning.io import PDDLReader\n",
    "from unified_planning.shortcuts import *\n",
    "\n",
    "reader = PDDLReader()\n",
    "pddl_problem = reader.parse_problem(\n",
    "    \"pddl/pick_place_domain.pddl\",\n",
    "    \"pddl/pick_place_problem_01.pddl\",\n",
    ")\n",
    "print(pddl_problem)"
   ]
  },
  {
   "cell_type": "markdown",
   "metadata": {},
   "source": [
    "Once you have read in domain and problem files from PDDL, you can perform planning in the same way as manually defined domains!"
   ]
  },
  {
   "cell_type": "code",
   "execution_count": 42,
   "metadata": {},
   "outputs": [
    {
     "name": "stdout",
     "output_type": "stream",
     "text": [
      "\u001b[96m  *** Credits ***\n",
      "\u001b[0m\u001b[96m  * In operation mode `OneshotPlanner` at line 1 of `/tmp/ipykernel_475236/2296574505.py`, \u001b[0m\u001b[96myou are using the following planning engine:\n",
      "\u001b[0m\u001b[96m  * Engine name: Tamer\n",
      "  * Developers:  FBK Tamer Development Team\n",
      "\u001b[0m\u001b[96m  * Description: \u001b[0m\u001b[96mTamer offers the capability to generate a plan for classical, numerical and temporal problems.\n",
      "  *              For those kind of problems tamer also offers the possibility of validating a submitted plan.\u001b[0m\u001b[96m\n",
      "\u001b[0m\u001b[96m\n",
      "\u001b[0mSequentialPlan:\n",
      "    move(bin_3, bin_1)\n",
      "    pick(part_1, bin_1)\n",
      "    move(bin_1, bin_3)\n",
      "    place(part_1, bin_3)\n",
      "    move(bin_3, bin_2)\n",
      "    pick(part_2, bin_2)\n",
      "    move(bin_2, bin_1)\n",
      "    place(part_2, bin_1)\n",
      "    move(bin_1, bin_2)\n"
     ]
    }
   ],
   "source": [
    "with OneshotPlanner(name=\"tamer\") as planner:\n",
    "    result = planner.solve(pddl_problem)\n",
    "    if result.plan is None:\n",
    "        print(\"Found no plan :(\")\n",
    "    else:\n",
    "        print(result.plan)"
   ]
  },
  {
   "cell_type": "markdown",
   "metadata": {},
   "source": [
    "By defining your domains and problems in separate PDDL files, the amount of code written here is quite minimal!\n",
    "\n",
    "The idea is that you can reuse the same domain file along with any arbitrary number of problem files.\n",
    "\n",
    "Feel free to make your own additional problem files in the `pddl` subfolder, and see how things go!"
   ]
  },
  {
   "cell_type": "markdown",
   "metadata": {},
   "source": [
    "Another thing you can do once you have a Unified Planning problem loaded is **simulation**.\n",
    "In other words, you can start from a specific initial state and propagate the effects of actions to simulate how the state changes.\n",
    "This is useful for many reasons, including:\n",
    "\n",
    "* Tracking the symbolic state in a world model as an agent executes actions in the real world -- this helps have an up-to-date initial state for replanning after a plan is completed or fails.\n",
    "* Validating whether an action (or set of actions) is still applicable in the event that the state changed during execution.\n",
    "\n",
    "Unified Planning offers a `SequentialSimulator` class to do this, which we will explore now."
   ]
  },
  {
   "cell_type": "code",
   "execution_count": 43,
   "metadata": {},
   "outputs": [
    {
     "name": "stdout",
     "output_type": "stream",
     "text": [
      "{robot_at(bin_3): true, gripper_empty: true, part_at(part_1, bin_1): true, part_at(part_2, bin_2): true, occupied(bin_1): true, occupied(bin_2): true, robot_at(bin_1): false, robot_at(bin_2): false, part_at(part_2, bin_1): false, part_at(part_1, bin_2): false, part_at(part_1, bin_3): false, part_at(part_2, bin_3): false, holding(part_1): false, holding(part_2): false, occupied(bin_3): false}\n"
     ]
    }
   ],
   "source": [
    "simulator = SequentialSimulator(pddl_problem)\n",
    "initial_state = simulator.get_initial_state()\n",
    "print(initial_state)"
   ]
  },
  {
   "cell_type": "markdown",
   "metadata": {},
   "source": [
    "To forward propagate a state given some actions, you can simulate as follows:"
   ]
  },
  {
   "cell_type": "code",
   "execution_count": 44,
   "metadata": {},
   "outputs": [
    {
     "name": "stdout",
     "output_type": "stream",
     "text": [
      "{robot_at(bin_3): false, robot_at(bin_2): true, gripper_empty: true, part_at(part_1, bin_1): true, part_at(part_2, bin_2): true, occupied(bin_1): true, occupied(bin_2): true, robot_at(bin_1): false, part_at(part_2, bin_1): false, part_at(part_1, bin_2): false, part_at(part_1, bin_3): false, part_at(part_2, bin_3): false, holding(part_1): false, holding(part_2): false, occupied(bin_3): false}\n"
     ]
    }
   ],
   "source": [
    "from unified_planning.plans import ActionInstance\n",
    "\n",
    "move = pddl_problem.action(\"move\")\n",
    "bin_1 = pddl_problem.object(\"bin_1\")\n",
    "bin_2 = pddl_problem.object(\"bin_2\")\n",
    "bin_3 = pddl_problem.object(\"bin_3\")\n",
    "\n",
    "new_state = simulator.apply(initial_state, ActionInstance(move, (bin_3, bin_2)))\n",
    "print(new_state)"
   ]
  },
  {
   "cell_type": "markdown",
   "metadata": {},
   "source": [
    "Notice that in the above case, we already knew that the action `move(bin_3, bin_2)` was valid.\n",
    "What if we try an invalid action?"
   ]
  },
  {
   "cell_type": "code",
   "execution_count": 45,
   "metadata": {},
   "outputs": [
    {
     "name": "stdout",
     "output_type": "stream",
     "text": [
      "None\n"
     ]
    }
   ],
   "source": [
    "new_state = simulator.apply(initial_state, ActionInstance(move, (bin_1, bin_2)))  # robot is at bin_3, though!\n",
    "print(new_state)  # this is None!"
   ]
  },
  {
   "cell_type": "markdown",
   "metadata": {},
   "source": [
    "Instead, you can check if actions are applicable with `SequentialSimulator`."
   ]
  },
  {
   "cell_type": "code",
   "execution_count": 46,
   "metadata": {},
   "outputs": [
    {
     "name": "stdout",
     "output_type": "stream",
     "text": [
      "Is action applicable? False\n",
      "Unsatisfied conditions:\n",
      "[robot_at(bin_1)]\n"
     ]
    }
   ],
   "source": [
    "move_bin_1_bin_2 = ActionInstance(move, (bin_1, bin_2))\n",
    "\n",
    "is_applicable = simulator.is_applicable(initial_state, move_bin_1_bin_2)  # robot is at bin_3, though!\n",
    "print(f\"Is action applicable? {is_applicable}\")\n",
    "\n",
    "unsatisfied_conditions, reasons = simulator.get_unsatisfied_conditions(initial_state, move_bin_1_bin_2)\n",
    "print(f\"Unsatisfied conditions:\\n{unsatisfied_conditions}\")"
   ]
  },
  {
   "cell_type": "markdown",
   "metadata": {},
   "source": [
    "With this information, you can safely propagate states using an entire sequence of actions.\n",
    "This, of course, can come from a task plan!"
   ]
  },
  {
   "cell_type": "code",
   "execution_count": 47,
   "metadata": {},
   "outputs": [
    {
     "name": "stdout",
     "output_type": "stream",
     "text": [
      "Applied action: move(bin_3, bin_2)\n",
      "Applied action: pick(part_2, bin_2)\n",
      "Applied action: move(bin_2, bin_1)\n",
      "Cannot apply action: place(part_2, bin_1)\n",
      "Unsatisfied conditions: [(not occupied(bin_1))]\n",
      "\n",
      "Final simulated state: {robot_at(bin_2): false, robot_at(bin_1): true, part_at(part_2, bin_2): false, holding(part_2): true, gripper_empty: false, occupied(bin_2): false, robot_at(bin_3): false, part_at(part_1, bin_1): true, occupied(bin_1): true, part_at(part_2, bin_1): false, part_at(part_1, bin_2): false, part_at(part_1, bin_3): false, part_at(part_2, bin_3): false, holding(part_1): false, occupied(bin_3): false}\n"
     ]
    }
   ],
   "source": [
    "\n",
    "pick = pddl_problem.action(\"pick\")\n",
    "place = pddl_problem.action(\"place\")\n",
    "part_1 = pddl_problem.object(\"part_1\")\n",
    "part_2 = pddl_problem.object(\"part_2\")\n",
    "\n",
    "task_plan = [\n",
    "    ActionInstance(move, (bin_3, bin_2)),\n",
    "    ActionInstance(pick, (part_2, bin_2)),\n",
    "    ActionInstance(move, (bin_2, bin_1)),\n",
    "    ActionInstance(place, (part_2, bin_1)),\n",
    "]\n",
    "\n",
    "cur_state = initial_state\n",
    "for action in task_plan:\n",
    "    if not simulator.is_applicable(cur_state, action):\n",
    "        unsatisfied_conditions, _ = simulator.get_unsatisfied_conditions(cur_state, action)\n",
    "        print(f\"Cannot apply action: {action}\\nUnsatisfied conditions: {unsatisfied_conditions}\")\n",
    "        break\n",
    "\n",
    "    cur_state = simulator.apply(cur_state, action)\n",
    "    print(f\"Applied action: {action}\")\n",
    "\n",
    "print(f\"\\nFinal simulated state: {cur_state}\")\n",
    "    \n",
    "        "
   ]
  },
  {
   "cell_type": "markdown",
   "metadata": {},
   "source": [
    "Notice that with the simulator, we could determine this was an invalid task plan!\n",
    "\n",
    "In this case, the robot was unable to place `part_2` in `bin_1`, because the bin was already occupied by `part_1`.\n",
    "\n",
    "**Fun fact:** When I was putting this example together, at first this action executed correctly even though I expected it to fail!\n",
    "Indeed, this uncovered a bug in my domain description, since there were no fluents that prevented multiple objects from being placed in the same bin.\n",
    "So, by using `SequentialSimulator` and validating plans, I could identify the issue and add the new `occupied(?b - bin)` fluent."
   ]
  }
 ],
 "metadata": {
  "kernelspec": {
   "display_name": "Python 3",
   "language": "python",
   "name": "python3"
  },
  "language_info": {
   "codemirror_mode": {
    "name": "ipython",
    "version": 3
   },
   "file_extension": ".py",
   "mimetype": "text/x-python",
   "name": "python",
   "nbconvert_exporter": "python",
   "pygments_lexer": "ipython3",
   "version": "3.12.3"
  }
 },
 "nbformat": 4,
 "nbformat_minor": 2
}
