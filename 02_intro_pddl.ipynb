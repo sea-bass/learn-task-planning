{
 "cells": [
  {
   "cell_type": "markdown",
   "metadata": {},
   "source": [
    "# Introduction to PDDL\n",
    "\n",
    "In the first example, we looked at manually defining a planning problem.\n",
    "\n",
    "However, there exist entire modeling languages to more easily define these.\n",
    "The most common one is Planning Domain Description Language, or PDDL.\n",
    "\n",
    "Unified Planning offers a PDDL reader that you can use to directly read these files."
   ]
  },
  {
   "cell_type": "code",
   "execution_count": 9,
   "metadata": {},
   "outputs": [
    {
     "name": "stdout",
     "output_type": "stream",
     "text": [
      "problem name = pick_and_place_problem_01\n",
      "\n",
      "types = [bin, part]\n",
      "\n",
      "fluents = [\n",
      "  bool robot_at[b=bin]\n",
      "  bool part_at[p=part, b=bin]\n",
      "  bool holding[p=part]\n",
      "  bool gripper_empty\n",
      "]\n",
      "\n",
      "actions = [\n",
      "  action move(bin b_from, bin b_to) {\n",
      "    preconditions = [\n",
      "      robot_at(b_from)\n",
      "    ]\n",
      "    effects = [\n",
      "      robot_at(b_from) := false\n",
      "      robot_at(b_to) := true\n",
      "    ]\n",
      "  }\n",
      "  action pick(part p, bin b) {\n",
      "    preconditions = [\n",
      "      (robot_at(b) and part_at(p, b) and gripper_empty)\n",
      "    ]\n",
      "    effects = [\n",
      "      part_at(p, b) := false\n",
      "      holding(p) := true\n",
      "      gripper_empty := false\n",
      "    ]\n",
      "  }\n",
      "  action place(part p, bin b) {\n",
      "    preconditions = [\n",
      "      (robot_at(b) and holding(p))\n",
      "    ]\n",
      "    effects = [\n",
      "      holding(p) := false\n",
      "      gripper_empty := true\n",
      "      part_at(p, b) := true\n",
      "    ]\n",
      "  }\n",
      "]\n",
      "\n",
      "objects = [\n",
      "  bin: [bin_1, bin_2, bin_3]\n",
      "  part: [part_1, part_2]\n",
      "]\n",
      "\n",
      "initial fluents default = [\n",
      "  bool robot_at[b=bin] := false\n",
      "  bool part_at[p=part, b=bin] := false\n",
      "  bool holding[p=part] := false\n",
      "  bool gripper_empty := false\n",
      "]\n",
      "\n",
      "initial values = [\n",
      "  robot_at(bin_3) := true\n",
      "  part_at(part_1, bin_1) := true\n",
      "  part_at(part_2, bin_2) := true\n",
      "  gripper_empty := true\n",
      "]\n",
      "\n",
      "goals = [\n",
      "  (robot_at(bin_2) and part_at(part_1, bin_3) and part_at(part_2, bin_1))\n",
      "]\n",
      "\n",
      "\n"
     ]
    }
   ],
   "source": [
    "from unified_planning.io import PDDLReader\n",
    "from unified_planning.shortcuts import *\n",
    "\n",
    "reader = PDDLReader()\n",
    "pddl_problem = reader.parse_problem(\n",
    "    \"pddl/pick_place_domain.pddl\",\n",
    "    \"pddl/pick_place_problem_01.pddl\",\n",
    ")\n",
    "print(pddl_problem)"
   ]
  },
  {
   "cell_type": "markdown",
   "metadata": {},
   "source": [
    "Once you have read in domain and problem files from PDDL, you can perform planning in the same way as manually defined domains!"
   ]
  },
  {
   "cell_type": "code",
   "execution_count": 10,
   "metadata": {},
   "outputs": [
    {
     "name": "stdout",
     "output_type": "stream",
     "text": [
      "\u001b[96m  *** Credits ***\n",
      "\u001b[0m\u001b[96m  * In operation mode `OneshotPlanner` at line 1 of `/tmp/ipykernel_2334124/2296574505.py`, \u001b[0m\u001b[96myou are using the following planning engine:\n",
      "\u001b[0m\u001b[96m  * Engine name: Tamer\n",
      "  * Developers:  FBK Tamer Development Team\n",
      "\u001b[0m\u001b[96m  * Description: \u001b[0m\u001b[96mTamer offers the capability to generate a plan for classical, numerical and temporal problems.\n",
      "  *              For those kind of problems tamer also offers the possibility of validating a submitted plan.\u001b[0m\u001b[96m\n",
      "\u001b[0m\u001b[96m\n",
      "\u001b[0mSequentialPlan:\n",
      "    move(bin_3, bin_2)\n",
      "    pick(part_2, bin_2)\n",
      "    move(bin_2, bin_1)\n",
      "    place(part_2, bin_1)\n",
      "    pick(part_1, bin_1)\n",
      "    move(bin_1, bin_3)\n",
      "    place(part_1, bin_3)\n",
      "    move(bin_3, bin_2)\n"
     ]
    }
   ],
   "source": [
    "with OneshotPlanner(name=\"tamer\") as planner:\n",
    "    result = planner.solve(pddl_problem)\n",
    "    if result.plan is None:\n",
    "        print(\"Found no plan :(\")\n",
    "    else:\n",
    "        print(result.plan)"
   ]
  },
  {
   "cell_type": "markdown",
   "metadata": {},
   "source": [
    "By defining your domains and problems in separate PDDL files, the amount of code written here is quite minimal!\n",
    "\n",
    "The idea is that you can reuse the same domain file along with any arbitrary number of problem files.\n",
    "\n",
    "Feel free to make your own additional problem files in the `pddl` subfolder, and see how things go!"
   ]
  }
 ],
 "metadata": {
  "kernelspec": {
   "display_name": "Python 3",
   "language": "python",
   "name": "python3"
  },
  "language_info": {
   "codemirror_mode": {
    "name": "ipython",
    "version": 3
   },
   "file_extension": ".py",
   "mimetype": "text/x-python",
   "name": "python",
   "nbconvert_exporter": "python",
   "pygments_lexer": "ipython3",
   "version": "3.12.3"
  }
 },
 "nbformat": 4,
 "nbformat_minor": 2
}
